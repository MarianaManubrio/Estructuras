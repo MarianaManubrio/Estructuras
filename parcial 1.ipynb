{
 "cells": [
  {
   "cell_type": "markdown",
   "metadata": {},
   "source": [
    "# Estructuras de datos lineales\n",
    "fecha: 29/08/17\n",
    "Equipo:\n",
    "Fernanda Flores,\n",
    "Jeziel Manjarrez,\n",
    "Mariana Avalos\n",
    "## Arreglos dinamicos"
   ]
  },
  {
   "cell_type": "code",
   "execution_count": 1,
   "metadata": {
    "collapsed": true
   },
   "outputs": [],
   "source": [
    "from DosFunciones import *"
   ]
  },
  {
   "cell_type": "markdown",
   "metadata": {},
   "source": [
    " a)Crea un arreglo dinamico de enteros\n",
    " b)Agrega elementos como elementos los números del 1 al 100.\n",
    " c) Calcula e imprime la cantidad de elementos que tiene el arreglo."
   ]
  },
  {
   "cell_type": "code",
   "execution_count": 2,
   "metadata": {},
   "outputs": [
    {
     "name": "stdout",
     "output_type": "stream",
     "text": [
      "c) cantidad de elementos que tiene el arreglo: 100\n"
     ]
    }
   ],
   "source": [
    "#a) y b) crea un arreglo dinam de elem y agregar elem del 1 al 100\n",
    "arr1 = dinamico()\n",
    "for i in range (1, 101):\n",
    "    arr1.add(i)\n",
    "print (\"c) cantidad de elementos que tiene el arreglo:\", arr1.tam)"
   ]
  },
  {
   "cell_type": "markdown",
   "metadata": {},
   "source": [
    "d) Calcula e imprime la capacidad de elementos que tiene el arreglo:"
   ]
  },
  {
   "cell_type": "code",
   "execution_count": 3,
   "metadata": {},
   "outputs": [
    {
     "name": "stdout",
     "output_type": "stream",
     "text": [
      "d) capacidad del arreglo:  128\n"
     ]
    }
   ],
   "source": [
    "print(\"d) capacidad del arreglo: \", arr1.espacio)"
   ]
  },
  {
   "cell_type": "markdown",
   "metadata": {},
   "source": [
    "e)Elimina 50 elementos"
   ]
  },
  {
   "cell_type": "code",
   "execution_count": 4,
   "metadata": {
    "collapsed": true
   },
   "outputs": [],
   "source": [
    "# e) eliminar 50 elem\n",
    "for i in range (0,50):\n",
    "    arr1.dlast()"
   ]
  },
  {
   "cell_type": "markdown",
   "metadata": {},
   "source": [
    "f) Calcula e imprime la capacidad de elementos que tiene el arreglo"
   ]
  },
  {
   "cell_type": "code",
   "execution_count": 5,
   "metadata": {},
   "outputs": [
    {
     "name": "stdout",
     "output_type": "stream",
     "text": [
      "f) imprimir la capacidad de elementos:  96\n"
     ]
    }
   ],
   "source": [
    "print(\"f) imprimir la capacidad de elementos: \",arr1.espacio)"
   ]
  },
  {
   "cell_type": "markdown",
   "metadata": {},
   "source": [
    "g)Busca si existe el número 45 en la lista.\n",
    "Si existe, imprime: ’Sí existe el 45’\n",
    "Si no existe, imprime: ’No existe el 45’"
   ]
  },
  {
   "cell_type": "code",
   "execution_count": 6,
   "metadata": {},
   "outputs": [
    {
     "name": "stdout",
     "output_type": "stream",
     "text": [
      "g) Si existe el 45\n"
     ]
    }
   ],
   "source": [
    "# g) busca si existe el numero 45 en la lista\n",
    "resp = 0\n",
    "for i in arr1:\n",
    "    if i == 45:\n",
    "        resp += 1\n",
    "if resp != 0:\n",
    "    print(\"g) Si existe el 45\")\n",
    "else:\n",
    "    print(\"g) No existe el 45\")"
   ]
  },
  {
   "cell_type": "markdown",
   "metadata": {},
   "source": [
    "h) Elimina 40 elementos mas"
   ]
  },
  {
   "cell_type": "code",
   "execution_count": 7,
   "metadata": {
    "collapsed": true
   },
   "outputs": [],
   "source": [
    "# h) elimina 40 elementos mas\n",
    "for i in range (0,40):\n",
    "    arr1.dlast()"
   ]
  },
  {
   "cell_type": "code",
   "execution_count": 8,
   "metadata": {},
   "outputs": [
    {
     "name": "stdout",
     "output_type": "stream",
     "text": [
      "i) Calcula e imprime la capacidad de elementos que tiene el arreglo:  16\n"
     ]
    }
   ],
   "source": [
    "print(\"i) Calcula e imprime la capacidad de elementos que tiene el arreglo: \", arr1.espacio)"
   ]
  },
  {
   "cell_type": "code",
   "execution_count": 9,
   "metadata": {},
   "outputs": [
    {
     "name": "stdout",
     "output_type": "stream",
     "text": [
      "j) Imprime todos los elementos del arreglo en formato elemento-elemento-elemento:  1-2-3-4-5-6-7-8-9-10\n"
     ]
    }
   ],
   "source": [
    "print(\"j) Imprime todos los elementos del arreglo en formato elemento-elemento-elemento: \", arr1)"
   ]
  },
  {
   "cell_type": "markdown",
   "metadata": {},
   "source": [
    "## Listas ligadas"
   ]
  },
  {
   "cell_type": "code",
   "execution_count": 10,
   "metadata": {
    "collapsed": true
   },
   "outputs": [],
   "source": [
    "from listas import *"
   ]
  },
  {
   "cell_type": "markdown",
   "metadata": {},
   "source": [
    "a)Crea una lista ligada"
   ]
  },
  {
   "cell_type": "code",
   "execution_count": 11,
   "metadata": {
    "collapsed": true
   },
   "outputs": [],
   "source": [
    "lista1 = lista()"
   ]
  },
  {
   "cell_type": "markdown",
   "metadata": {},
   "source": [
    "b)Agrega como elementos las letras de la \"a\" hasta la \"z\""
   ]
  },
  {
   "cell_type": "code",
   "execution_count": 12,
   "metadata": {},
   "outputs": [
    {
     "name": "stdout",
     "output_type": "stream",
     "text": [
      "a->b->c->d->e->f->g->h->i->j->k->l->m->n->o->p->q->r->s->t->u->v->w->x->y->z\n"
     ]
    }
   ],
   "source": [
    "for i in range (97, 123):\n",
    "    lista1.add_last(chr(i))\n",
    "lista1.printAll(\"->\")"
   ]
  },
  {
   "cell_type": "code",
   "execution_count": 13,
   "metadata": {},
   "outputs": [
    {
     "name": "stdout",
     "output_type": "stream",
     "text": [
      "c)Calcula e imprime la cantidad de elementos que tiene la lista ligada:  26\n"
     ]
    }
   ],
   "source": [
    "print(\"c)Calcula e imprime la cantidad de elementos que tiene la lista ligada: \", len(lista1))"
   ]
  },
  {
   "cell_type": "markdown",
   "metadata": {},
   "source": [
    "d)Muestra cuál es el 5° miembro de la lista:"
   ]
  },
  {
   "cell_type": "code",
   "execution_count": 14,
   "metadata": {},
   "outputs": [
    {
     "name": "stdout",
     "output_type": "stream",
     "text": [
      "d) Quinto miembro de la lista: e\n"
     ]
    }
   ],
   "source": [
    "print(\"d) Quinto miembro de la lista:\",lista1.get(5))"
   ]
  },
  {
   "cell_type": "markdown",
   "metadata": {},
   "source": [
    "e)Muestra cuál es el 10° miembro de la lista."
   ]
  },
  {
   "cell_type": "code",
   "execution_count": 15,
   "metadata": {},
   "outputs": [
    {
     "name": "stdout",
     "output_type": "stream",
     "text": [
      "e) Decimo miembro de la lista:  j\n"
     ]
    }
   ],
   "source": [
    "print(\"e) Decimo miembro de la lista: \", lista1.get(10))"
   ]
  },
  {
   "cell_type": "markdown",
   "metadata": {},
   "source": [
    "f)Elimina el último miembro de la lista"
   ]
  },
  {
   "cell_type": "code",
   "execution_count": 16,
   "metadata": {},
   "outputs": [
    {
     "name": "stdout",
     "output_type": "stream",
     "text": [
      "a b c d e f g h i j k l m n o p q r s t u v w x y\n"
     ]
    }
   ],
   "source": [
    "lista1.dlast()\n",
    "lista1.printAll(\" \")"
   ]
  },
  {
   "cell_type": "markdown",
   "metadata": {},
   "source": [
    "g)Busca dentro de la lista si existe el elemento con valor ’j’ y calcula su\n",
    "posición. Si no existe imprime, no existe ’j’"
   ]
  },
  {
   "cell_type": "code",
   "execution_count": 17,
   "metadata": {},
   "outputs": [
    {
     "name": "stdout",
     "output_type": "stream",
     "text": [
      "g) Busca el elemento con valor j, si existe imprime que existe j y su posicion: \n",
      "Existe el elemento j en la posicion: 9\n"
     ]
    }
   ],
   "source": [
    "encontrado = lista1.search(\"j\")\n",
    "print(\"g) Busca el elemento con valor j, si existe imprime que existe j y su posicion: \")\n",
    "print(encontrado)"
   ]
  },
  {
   "cell_type": "markdown",
   "metadata": {},
   "source": [
    "h) Imprime todos los elementos de la lista en formato elem+++elem+++elem:"
   ]
  },
  {
   "cell_type": "code",
   "execution_count": 18,
   "metadata": {},
   "outputs": [
    {
     "name": "stdout",
     "output_type": "stream",
     "text": [
      "h) imprimir elem+++elem+++elem: \n",
      "a+++b+++c+++d+++e+++f+++g+++h+++i+++j+++k+++l+++m+++n+++o+++p+++q+++r+++s+++t+++u+++v+++w+++x+++y\n"
     ]
    }
   ],
   "source": [
    "print(\"h) imprimir elem+++elem+++elem: \")\n",
    "lista1.printAll(\"+++\")"
   ]
  },
  {
   "cell_type": "markdown",
   "metadata": {},
   "source": [
    "## Listas doblemente ligadas\n"
   ]
  },
  {
   "cell_type": "code",
   "execution_count": 19,
   "metadata": {
    "collapsed": true
   },
   "outputs": [],
   "source": [
    "from tareaListasDL import *"
   ]
  },
  {
   "cell_type": "markdown",
   "metadata": {},
   "source": [
    "a) Crea una lista doblemente ligada:"
   ]
  },
  {
   "cell_type": "code",
   "execution_count": 20,
   "metadata": {
    "collapsed": true
   },
   "outputs": [],
   "source": [
    "#a) crear lista dl\n",
    "dl = lista()"
   ]
  },
  {
   "cell_type": "markdown",
   "metadata": {},
   "source": [
    "b) Agrega como elementos cada una de las palabras de la frase:"
   ]
  },
  {
   "cell_type": "code",
   "execution_count": 21,
   "metadata": {
    "collapsed": true
   },
   "outputs": [],
   "source": [
    "text = \"Mr and Mrs Dursley of number four Privet Drive were proud to say that \"+\\\n",
    "\"they were perfectly normal thank you very much they were the last people \"+\\\n",
    "\"youd expect to be involved in anything strange or mysterious because they \"+\\\n",
    "\"just didnt hold with such nonsense Mr Dursley was the director of a firm called \"+\\\n",
    "\"Grunnings which made drills He was a big beefy man with hardly any \"+\\\n",
    "\"neck although he did have a very large mustache Mrs Dursley was thin and \"+\\\n",
    "\"blonde and had nearly twice the usual amount of neck which came in very \"+\\\n",
    "\"useful as she spent so much of her time craning over garden fences spying \"+\\\n",
    "\"on the neighbors The Dursleys had a small son called Dudley and in their \" +\\\n",
    "\"opinion there was no finer boy anywhere\"\n",
    "words = text.split()\n",
    "for word in words:\n",
    "    dl.add_last(word)"
   ]
  },
  {
   "cell_type": "markdown",
   "metadata": {},
   "source": [
    "c) Calcula e imprime la cantidad de elementos que tiene la lista doblemente\n",
    "ligada"
   ]
  },
  {
   "cell_type": "code",
   "execution_count": 22,
   "metadata": {},
   "outputs": [
    {
     "name": "stdout",
     "output_type": "stream",
     "text": [
      "c) cantidad de elementos de la lista ligada:  130\n"
     ]
    }
   ],
   "source": [
    "print(\"c) cantidad de elementos de la lista ligada: \", len(dl))"
   ]
  },
  {
   "cell_type": "markdown",
   "metadata": {},
   "source": [
    "d) Muestra cuál es el penúltimo elemento de la lista."
   ]
  },
  {
   "cell_type": "code",
   "execution_count": 23,
   "metadata": {},
   "outputs": [
    {
     "name": "stdout",
     "output_type": "stream",
     "text": [
      "d) Penultimo elemento de la lista:  boy\n"
     ]
    }
   ],
   "source": [
    "print(\"d) Penultimo elemento de la lista: \",dl[len(dl)-2])"
   ]
  },
  {
   "cell_type": "markdown",
   "metadata": {},
   "source": [
    "e) Busca dentro de la lista si existe el elemento con valor ’neck’ y calcula su\n",
    "posición. Si no existe, imprime, ’No existe neck’:"
   ]
  },
  {
   "cell_type": "code",
   "execution_count": 24,
   "metadata": {},
   "outputs": [
    {
     "name": "stdout",
     "output_type": "stream",
     "text": [
      "e) Existe neck, en las posiciones:  67, 90\n"
     ]
    }
   ],
   "source": [
    "resp3 = 0\n",
    "index = 0\n",
    "pos = []\n",
    "res = \"\"\n",
    "for i in dl:\n",
    "    if i == \"neck\":\n",
    "        resp3 += 1\n",
    "        pos.append(index)\n",
    "    index += 1\n",
    "\n",
    "for i in range(len(pos)):\n",
    "    if i == len(pos) - 1:\n",
    "        res += str(pos[i])\n",
    "    else:\n",
    "        res += str(pos[i]) + \", \"\n",
    "if resp3 != 0:\n",
    "    print(\"e) Existe neck, en las posiciones: \", res)\n",
    "else:\n",
    "    print(\"No existe neck\")"
   ]
  },
  {
   "cell_type": "markdown",
   "metadata": {},
   "source": [
    "f) Imprime todos los elementos de la lista doblemente ligada que empiecen\n",
    "con 'h'"
   ]
  },
  {
   "cell_type": "code",
   "execution_count": 25,
   "metadata": {},
   "outputs": [
    {
     "name": "stdout",
     "output_type": "stream",
     "text": [
      "f) elementos que empiecen con h:  hold, hardly, he, have, had, her, had\n"
     ]
    }
   ],
   "source": [
    "answers = []\n",
    "for i in dl:\n",
    "    if i[0] == \"h\":\n",
    "        answers.append(i)\n",
    "print(\"f) elementos que empiecen con h: \", \", \".join(answers))\n",
    "        "
   ]
  },
  {
   "cell_type": "markdown",
   "metadata": {},
   "source": [
    "## Listas python"
   ]
  },
  {
   "cell_type": "markdown",
   "metadata": {},
   "source": [
    "a) Crea una lista de python:"
   ]
  },
  {
   "cell_type": "code",
   "execution_count": 26,
   "metadata": {
    "collapsed": true
   },
   "outputs": [],
   "source": [
    "lpython = []"
   ]
  },
  {
   "cell_type": "markdown",
   "metadata": {},
   "source": [
    "b) Agrega como elementos cada una de las palabras de la frase del item 3b en\n",
    "listas doblemente ligadas:"
   ]
  },
  {
   "cell_type": "code",
   "execution_count": 27,
   "metadata": {
    "collapsed": true
   },
   "outputs": [],
   "source": [
    "lpython = text.split()"
   ]
  },
  {
   "cell_type": "markdown",
   "metadata": {},
   "source": [
    "c) Imprime la misma frase, pero cada palabra con sus letras en orden inverso:"
   ]
  },
  {
   "cell_type": "code",
   "execution_count": 28,
   "metadata": {},
   "outputs": [
    {
     "name": "stdout",
     "output_type": "stream",
     "text": [
      "c) cada letra de cada palabra en orden inverso:  rM dna srM yelsruD fo rebmun ruof tevirP evirD erew duorp ot yas taht yeht erew yltcefrep lamron knaht uoy yrev hcum yeht erew eht tsal elpoep duoy tcepxe ot eb devlovni ni gnihtyna egnarts ro suoiretsym esuaceb yeht tsuj tndid dloh htiw hcus esnesnon rM yelsruD saw eht rotcerid fo a mrif dellac sgninnurG hcihw edam sllird eH saw a gib yfeeb nam htiw yldrah yna kcen hguohtla eh did evah a yrev egral ehcatsum srM yelsruD saw niht dna ednolb dna dah ylraen eciwt eht lausu tnuoma fo kcen hcihw emac ni yrev lufesu sa ehs tneps os hcum fo reh emit gninarc revo nedrag secnef gniyps no eht srobhgien ehT syelsruD dah a llams nos dellac yelduD dna ni rieht noinipo ereht saw on renif yob erehwyna\n"
     ]
    }
   ],
   "source": [
    "c = [x[::-1] for x in lpython]\n",
    "print(\"c) cada letra de cada palabra en orden inverso: \", \" \".join(c))"
   ]
  },
  {
   "cell_type": "markdown",
   "metadata": {},
   "source": [
    "d) Crea una nueva lista en que los elementos sean los tamaños de cada una\n",
    "de las palabras de la lista anterior:"
   ]
  },
  {
   "cell_type": "code",
   "execution_count": 29,
   "metadata": {},
   "outputs": [
    {
     "name": "stdout",
     "output_type": "stream",
     "text": [
      "d) lista con los tamaños:  [2, 3, 3, 7, 2, 6, 4, 6, 5, 4, 5, 2, 3, 4, 4, 4, 9, 6, 5, 3, 4, 4, 4, 4, 3, 4, 6, 4, 6, 2, 2, 8, 2, 8, 7, 2, 10, 7, 4, 4, 5, 4, 4, 4, 8, 2, 7, 3, 3, 8, 2, 1, 4, 6, 9, 5, 4, 6, 2, 3, 1, 3, 5, 3, 4, 6, 3, 4, 8, 2, 3, 4, 1, 4, 5, 8, 3, 7, 3, 4, 3, 6, 3, 3, 6, 5, 3, 5, 6, 2, 4, 5, 4, 2, 4, 6, 2, 3, 5, 2, 4, 2, 3, 4, 7, 4, 6, 6, 6, 2, 3, 9, 3, 8, 3, 1, 5, 3, 6, 6, 3, 2, 5, 7, 5, 3, 2, 5, 3, 8]\n"
     ]
    }
   ],
   "source": [
    "tams = []\n",
    "for i in lpython:\n",
    "    tams.append(len(i))\n",
    "print(\"d) lista con los tamaños: \", tams)"
   ]
  },
  {
   "cell_type": "markdown",
   "metadata": {},
   "source": [
    "e)Encuentra el elemento mayor de la lista nueva:"
   ]
  },
  {
   "cell_type": "code",
   "execution_count": 30,
   "metadata": {},
   "outputs": [
    {
     "name": "stdout",
     "output_type": "stream",
     "text": [
      "e) encuentra el elemento mayor de la nva lista (tams):  10\n"
     ]
    }
   ],
   "source": [
    "max = 0\n",
    "for i in range(0, len(tams)):\n",
    "    if i == 0:\n",
    "        max = tams[0]\n",
    "    else:\n",
    "        if tams[i]>max:\n",
    "            max = tams[i]\n",
    "print(\"e) encuentra el elemento mayor de la nva lista (tams): \",max)"
   ]
  },
  {
   "cell_type": "markdown",
   "metadata": {},
   "source": [
    "f) Encuentra la suma de todos los elementos de la lista:"
   ]
  },
  {
   "cell_type": "code",
   "execution_count": 31,
   "metadata": {},
   "outputs": [
    {
     "name": "stdout",
     "output_type": "stream",
     "text": [
      "f) la suma de todos los elementos de la nva lista (tams):  566\n"
     ]
    }
   ],
   "source": [
    "ac = 0\n",
    "for i in tams:\n",
    "    ac += i\n",
    "print(\"f) la suma de todos los elementos de la nva lista (tams): \",ac)"
   ]
  },
  {
   "cell_type": "markdown",
   "metadata": {},
   "source": [
    "g)  Encuentra el promedio de todos los elementos de la lista:"
   ]
  },
  {
   "cell_type": "code",
   "execution_count": 32,
   "metadata": {},
   "outputs": [
    {
     "name": "stdout",
     "output_type": "stream",
     "text": [
      "g) promedio de los elementos:  4.3538461538461535\n"
     ]
    }
   ],
   "source": [
    "resp5 = ac/len(tams)\n",
    "print(\"g) promedio de los elementos: \", resp5)"
   ]
  },
  {
   "cell_type": "markdown",
   "metadata": {},
   "source": [
    "h) Encuentra cuál es la palabra más larga de la lista de palabras:"
   ]
  },
  {
   "cell_type": "code",
   "execution_count": 33,
   "metadata": {},
   "outputs": [
    {
     "name": "stdout",
     "output_type": "stream",
     "text": [
      "h) palabra mas larga de la lista:  mysterious\n"
     ]
    }
   ],
   "source": [
    "palabra = \"\"\n",
    "for i in lpython:\n",
    "    if len(i) == max:\n",
    "        palabra += i\n",
    "print(\"h) palabra mas larga de la lista: \", palabra)"
   ]
  }
 ],
 "metadata": {
  "kernelspec": {
   "display_name": "Python 3",
   "language": "python",
   "name": "python3"
  },
  "language_info": {
   "codemirror_mode": {
    "name": "ipython",
    "version": 3
   },
   "file_extension": ".py",
   "mimetype": "text/x-python",
   "name": "python",
   "nbconvert_exporter": "python",
   "pygments_lexer": "ipython3",
   "version": "3.6.1"
  }
 },
 "nbformat": 4,
 "nbformat_minor": 2
}
